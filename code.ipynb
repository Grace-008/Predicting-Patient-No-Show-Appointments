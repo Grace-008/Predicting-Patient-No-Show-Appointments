{
 "cells": [
  {
   "cell_type": "markdown",
   "id": "e7ba07f8",
   "metadata": {},
   "source": [
    "# 1.Read Data"
   ]
  },
  {
   "cell_type": "code",
   "execution_count": 23,
   "id": "30afa904",
   "metadata": {},
   "outputs": [],
   "source": [
    "import pandas as pd\n",
    "import numpy as np\n",
    "from sklearn.model_selection import train_test_split\n",
    "from sklearn.preprocessing import StandardScaler, OneHotEncoder, LabelEncoder\n",
    "from sklearn.impute import SimpleImputer\n",
    "from sklearn.compose import ColumnTransformer\n",
    "from sklearn.pipeline import Pipeline"
   ]
  },
  {
   "cell_type": "code",
   "execution_count": 24,
   "id": "3a5266be",
   "metadata": {},
   "outputs": [],
   "source": [
    "# load dataframe\n",
    "original_df = pd.read_csv('/Users/yingjiang/Desktop/5291proj/5291project/data/KaggleV2.csv')"
   ]
  },
  {
   "cell_type": "markdown",
   "id": "a2018250",
   "metadata": {},
   "source": [
    "# 2.Data preprocessing"
   ]
  },
  {
   "cell_type": "code",
   "execution_count": 25,
   "id": "7eaf2d26",
   "metadata": {},
   "outputs": [
    {
     "data": {
      "text/html": [
       "<div>\n",
       "<style scoped>\n",
       "    .dataframe tbody tr th:only-of-type {\n",
       "        vertical-align: middle;\n",
       "    }\n",
       "\n",
       "    .dataframe tbody tr th {\n",
       "        vertical-align: top;\n",
       "    }\n",
       "\n",
       "    .dataframe thead th {\n",
       "        text-align: right;\n",
       "    }\n",
       "</style>\n",
       "<table border=\"1\" class=\"dataframe\">\n",
       "  <thead>\n",
       "    <tr style=\"text-align: right;\">\n",
       "      <th></th>\n",
       "      <th>PatientId</th>\n",
       "      <th>AppointmentID</th>\n",
       "      <th>Gender</th>\n",
       "      <th>ScheduledDay</th>\n",
       "      <th>AppointmentDay</th>\n",
       "      <th>Age</th>\n",
       "      <th>Neighbourhood</th>\n",
       "      <th>Scholarship</th>\n",
       "      <th>Hipertension</th>\n",
       "      <th>Diabetes</th>\n",
       "      <th>Alcoholism</th>\n",
       "      <th>Handcap</th>\n",
       "      <th>SMS_received</th>\n",
       "      <th>No-show</th>\n",
       "    </tr>\n",
       "  </thead>\n",
       "  <tbody>\n",
       "    <tr>\n",
       "      <th>0</th>\n",
       "      <td>2.987250e+13</td>\n",
       "      <td>5642903</td>\n",
       "      <td>F</td>\n",
       "      <td>2016-04-29T18:38:08Z</td>\n",
       "      <td>2016-04-29T00:00:00Z</td>\n",
       "      <td>62</td>\n",
       "      <td>JARDIM DA PENHA</td>\n",
       "      <td>0</td>\n",
       "      <td>1</td>\n",
       "      <td>0</td>\n",
       "      <td>0</td>\n",
       "      <td>0</td>\n",
       "      <td>0</td>\n",
       "      <td>No</td>\n",
       "    </tr>\n",
       "    <tr>\n",
       "      <th>1</th>\n",
       "      <td>5.589980e+14</td>\n",
       "      <td>5642503</td>\n",
       "      <td>M</td>\n",
       "      <td>2016-04-29T16:08:27Z</td>\n",
       "      <td>2016-04-29T00:00:00Z</td>\n",
       "      <td>56</td>\n",
       "      <td>JARDIM DA PENHA</td>\n",
       "      <td>0</td>\n",
       "      <td>0</td>\n",
       "      <td>0</td>\n",
       "      <td>0</td>\n",
       "      <td>0</td>\n",
       "      <td>0</td>\n",
       "      <td>No</td>\n",
       "    </tr>\n",
       "    <tr>\n",
       "      <th>2</th>\n",
       "      <td>4.262960e+12</td>\n",
       "      <td>5642549</td>\n",
       "      <td>F</td>\n",
       "      <td>2016-04-29T16:19:04Z</td>\n",
       "      <td>2016-04-29T00:00:00Z</td>\n",
       "      <td>62</td>\n",
       "      <td>MATA DA PRAIA</td>\n",
       "      <td>0</td>\n",
       "      <td>0</td>\n",
       "      <td>0</td>\n",
       "      <td>0</td>\n",
       "      <td>0</td>\n",
       "      <td>0</td>\n",
       "      <td>No</td>\n",
       "    </tr>\n",
       "  </tbody>\n",
       "</table>\n",
       "</div>"
      ],
      "text/plain": [
       "      PatientId  AppointmentID Gender          ScheduledDay  \\\n",
       "0  2.987250e+13        5642903      F  2016-04-29T18:38:08Z   \n",
       "1  5.589980e+14        5642503      M  2016-04-29T16:08:27Z   \n",
       "2  4.262960e+12        5642549      F  2016-04-29T16:19:04Z   \n",
       "\n",
       "         AppointmentDay  Age    Neighbourhood  Scholarship  Hipertension  \\\n",
       "0  2016-04-29T00:00:00Z   62  JARDIM DA PENHA            0             1   \n",
       "1  2016-04-29T00:00:00Z   56  JARDIM DA PENHA            0             0   \n",
       "2  2016-04-29T00:00:00Z   62    MATA DA PRAIA            0             0   \n",
       "\n",
       "   Diabetes  Alcoholism  Handcap  SMS_received No-show  \n",
       "0         0           0        0             0      No  \n",
       "1         0           0        0             0      No  \n",
       "2         0           0        0             0      No  "
      ]
     },
     "execution_count": 25,
     "metadata": {},
     "output_type": "execute_result"
    }
   ],
   "source": [
    "# explore data\n",
    "original_df.head(3)"
   ]
  },
  {
   "cell_type": "code",
   "execution_count": 26,
   "id": "62cd07a5",
   "metadata": {},
   "outputs": [
    {
     "data": {
      "text/html": [
       "<div>\n",
       "<style scoped>\n",
       "    .dataframe tbody tr th:only-of-type {\n",
       "        vertical-align: middle;\n",
       "    }\n",
       "\n",
       "    .dataframe tbody tr th {\n",
       "        vertical-align: top;\n",
       "    }\n",
       "\n",
       "    .dataframe thead th {\n",
       "        text-align: right;\n",
       "    }\n",
       "</style>\n",
       "<table border=\"1\" class=\"dataframe\">\n",
       "  <thead>\n",
       "    <tr style=\"text-align: right;\">\n",
       "      <th></th>\n",
       "      <th>PatientId</th>\n",
       "      <th>AppointmentID</th>\n",
       "      <th>Age</th>\n",
       "      <th>Scholarship</th>\n",
       "      <th>Hipertension</th>\n",
       "      <th>Diabetes</th>\n",
       "      <th>Alcoholism</th>\n",
       "      <th>Handcap</th>\n",
       "      <th>SMS_received</th>\n",
       "    </tr>\n",
       "  </thead>\n",
       "  <tbody>\n",
       "    <tr>\n",
       "      <th>count</th>\n",
       "      <td>1.105270e+05</td>\n",
       "      <td>1.105270e+05</td>\n",
       "      <td>110527.000000</td>\n",
       "      <td>110527.000000</td>\n",
       "      <td>110527.000000</td>\n",
       "      <td>110527.000000</td>\n",
       "      <td>110527.000000</td>\n",
       "      <td>110527.000000</td>\n",
       "      <td>110527.000000</td>\n",
       "    </tr>\n",
       "    <tr>\n",
       "      <th>mean</th>\n",
       "      <td>1.474963e+14</td>\n",
       "      <td>5.675305e+06</td>\n",
       "      <td>37.088874</td>\n",
       "      <td>0.098266</td>\n",
       "      <td>0.197246</td>\n",
       "      <td>0.071865</td>\n",
       "      <td>0.030400</td>\n",
       "      <td>0.022248</td>\n",
       "      <td>0.321026</td>\n",
       "    </tr>\n",
       "    <tr>\n",
       "      <th>std</th>\n",
       "      <td>2.560949e+14</td>\n",
       "      <td>7.129575e+04</td>\n",
       "      <td>23.110205</td>\n",
       "      <td>0.297675</td>\n",
       "      <td>0.397921</td>\n",
       "      <td>0.258265</td>\n",
       "      <td>0.171686</td>\n",
       "      <td>0.161543</td>\n",
       "      <td>0.466873</td>\n",
       "    </tr>\n",
       "    <tr>\n",
       "      <th>min</th>\n",
       "      <td>3.920000e+04</td>\n",
       "      <td>5.030230e+06</td>\n",
       "      <td>-1.000000</td>\n",
       "      <td>0.000000</td>\n",
       "      <td>0.000000</td>\n",
       "      <td>0.000000</td>\n",
       "      <td>0.000000</td>\n",
       "      <td>0.000000</td>\n",
       "      <td>0.000000</td>\n",
       "    </tr>\n",
       "    <tr>\n",
       "      <th>25%</th>\n",
       "      <td>4.172615e+12</td>\n",
       "      <td>5.640286e+06</td>\n",
       "      <td>18.000000</td>\n",
       "      <td>0.000000</td>\n",
       "      <td>0.000000</td>\n",
       "      <td>0.000000</td>\n",
       "      <td>0.000000</td>\n",
       "      <td>0.000000</td>\n",
       "      <td>0.000000</td>\n",
       "    </tr>\n",
       "    <tr>\n",
       "      <th>50%</th>\n",
       "      <td>3.173180e+13</td>\n",
       "      <td>5.680573e+06</td>\n",
       "      <td>37.000000</td>\n",
       "      <td>0.000000</td>\n",
       "      <td>0.000000</td>\n",
       "      <td>0.000000</td>\n",
       "      <td>0.000000</td>\n",
       "      <td>0.000000</td>\n",
       "      <td>0.000000</td>\n",
       "    </tr>\n",
       "    <tr>\n",
       "      <th>75%</th>\n",
       "      <td>9.439170e+13</td>\n",
       "      <td>5.725524e+06</td>\n",
       "      <td>55.000000</td>\n",
       "      <td>0.000000</td>\n",
       "      <td>0.000000</td>\n",
       "      <td>0.000000</td>\n",
       "      <td>0.000000</td>\n",
       "      <td>0.000000</td>\n",
       "      <td>1.000000</td>\n",
       "    </tr>\n",
       "    <tr>\n",
       "      <th>max</th>\n",
       "      <td>9.999820e+14</td>\n",
       "      <td>5.790484e+06</td>\n",
       "      <td>115.000000</td>\n",
       "      <td>1.000000</td>\n",
       "      <td>1.000000</td>\n",
       "      <td>1.000000</td>\n",
       "      <td>1.000000</td>\n",
       "      <td>4.000000</td>\n",
       "      <td>1.000000</td>\n",
       "    </tr>\n",
       "  </tbody>\n",
       "</table>\n",
       "</div>"
      ],
      "text/plain": [
       "          PatientId  AppointmentID            Age    Scholarship  \\\n",
       "count  1.105270e+05   1.105270e+05  110527.000000  110527.000000   \n",
       "mean   1.474963e+14   5.675305e+06      37.088874       0.098266   \n",
       "std    2.560949e+14   7.129575e+04      23.110205       0.297675   \n",
       "min    3.920000e+04   5.030230e+06      -1.000000       0.000000   \n",
       "25%    4.172615e+12   5.640286e+06      18.000000       0.000000   \n",
       "50%    3.173180e+13   5.680573e+06      37.000000       0.000000   \n",
       "75%    9.439170e+13   5.725524e+06      55.000000       0.000000   \n",
       "max    9.999820e+14   5.790484e+06     115.000000       1.000000   \n",
       "\n",
       "        Hipertension       Diabetes     Alcoholism        Handcap  \\\n",
       "count  110527.000000  110527.000000  110527.000000  110527.000000   \n",
       "mean        0.197246       0.071865       0.030400       0.022248   \n",
       "std         0.397921       0.258265       0.171686       0.161543   \n",
       "min         0.000000       0.000000       0.000000       0.000000   \n",
       "25%         0.000000       0.000000       0.000000       0.000000   \n",
       "50%         0.000000       0.000000       0.000000       0.000000   \n",
       "75%         0.000000       0.000000       0.000000       0.000000   \n",
       "max         1.000000       1.000000       1.000000       4.000000   \n",
       "\n",
       "        SMS_received  \n",
       "count  110527.000000  \n",
       "mean        0.321026  \n",
       "std         0.466873  \n",
       "min         0.000000  \n",
       "25%         0.000000  \n",
       "50%         0.000000  \n",
       "75%         1.000000  \n",
       "max         1.000000  "
      ]
     },
     "execution_count": 26,
     "metadata": {},
     "output_type": "execute_result"
    }
   ],
   "source": [
    "# explore data\n",
    "original_df.describe()"
   ]
  },
  {
   "cell_type": "code",
   "execution_count": 27,
   "id": "fe6ba2ee",
   "metadata": {},
   "outputs": [
    {
     "name": "stdout",
     "output_type": "stream",
     "text": [
      "<class 'pandas.core.frame.DataFrame'>\n",
      "RangeIndex: 110527 entries, 0 to 110526\n",
      "Data columns (total 14 columns):\n",
      " #   Column          Non-Null Count   Dtype  \n",
      "---  ------          --------------   -----  \n",
      " 0   PatientId       110527 non-null  float64\n",
      " 1   AppointmentID   110527 non-null  int64  \n",
      " 2   Gender          110527 non-null  object \n",
      " 3   ScheduledDay    110527 non-null  object \n",
      " 4   AppointmentDay  110527 non-null  object \n",
      " 5   Age             110527 non-null  int64  \n",
      " 6   Neighbourhood   110527 non-null  object \n",
      " 7   Scholarship     110527 non-null  int64  \n",
      " 8   Hipertension    110527 non-null  int64  \n",
      " 9   Diabetes        110527 non-null  int64  \n",
      " 10  Alcoholism      110527 non-null  int64  \n",
      " 11  Handcap         110527 non-null  int64  \n",
      " 12  SMS_received    110527 non-null  int64  \n",
      " 13  No-show         110527 non-null  object \n",
      "dtypes: float64(1), int64(8), object(5)\n",
      "memory usage: 11.8+ MB\n"
     ]
    }
   ],
   "source": [
    "# explore data\n",
    "original_df.info()"
   ]
  },
  {
   "cell_type": "markdown",
   "id": "bd732d89",
   "metadata": {},
   "source": [
    "## 2.1Data cleaning"
   ]
  },
  {
   "cell_type": "code",
   "execution_count": 28,
   "id": "8751b059",
   "metadata": {},
   "outputs": [],
   "source": [
    "# Convert AppointmentDay to AppointmentDayofWeek"
   ]
  },
  {
   "cell_type": "code",
   "execution_count": 29,
   "id": "7e4097d4",
   "metadata": {},
   "outputs": [],
   "source": [
    "original_df['AppointmentDay'] = pd.to_datetime(original_df['AppointmentDay'])\n",
    "original_df['AppointmentDayofWeek'] = original_df['AppointmentDay'].dt.dayofweek"
   ]
  },
  {
   "cell_type": "code",
   "execution_count": 30,
   "id": "73c5cf70",
   "metadata": {},
   "outputs": [],
   "source": [
    "# Remove the row with Age = -1, since it makes no sense that the patient has a negative age"
   ]
  },
  {
   "cell_type": "code",
   "execution_count": 31,
   "id": "95ac79f6",
   "metadata": {},
   "outputs": [],
   "source": [
    "original_df = original_df[original_df['Age'] != -1]"
   ]
  },
  {
   "cell_type": "code",
   "execution_count": 32,
   "id": "550bf6e7",
   "metadata": {},
   "outputs": [],
   "source": [
    "# get target variable, no-show as 1\n",
    "original_df['No-show'] = original_df['No-show'].apply(lambda s: 1 if s == 'No' else 0)"
   ]
  },
  {
   "cell_type": "code",
   "execution_count": 33,
   "id": "c071b1fd",
   "metadata": {},
   "outputs": [],
   "source": [
    "# 0 as Female, 1 as male\n",
    "original_df['Gender'] = original_df['Gender'].apply(lambda g: 1 if g == 'M' else 0) "
   ]
  },
  {
   "cell_type": "markdown",
   "id": "a5ac6db6",
   "metadata": {},
   "source": [
    "## 2.2Data exploring "
   ]
  },
  {
   "cell_type": "code",
   "execution_count": 34,
   "id": "906ce33b",
   "metadata": {},
   "outputs": [
    {
     "data": {
      "text/html": [
       "<div>\n",
       "<style scoped>\n",
       "    .dataframe tbody tr th:only-of-type {\n",
       "        vertical-align: middle;\n",
       "    }\n",
       "\n",
       "    .dataframe tbody tr th {\n",
       "        vertical-align: top;\n",
       "    }\n",
       "\n",
       "    .dataframe thead th {\n",
       "        text-align: right;\n",
       "    }\n",
       "</style>\n",
       "<table border=\"1\" class=\"dataframe\">\n",
       "  <thead>\n",
       "    <tr style=\"text-align: right;\">\n",
       "      <th></th>\n",
       "      <th>PatientId</th>\n",
       "      <th>AppointmentID</th>\n",
       "      <th>Gender</th>\n",
       "      <th>ScheduledDay</th>\n",
       "      <th>AppointmentDay</th>\n",
       "      <th>Age</th>\n",
       "      <th>Neighbourhood</th>\n",
       "      <th>Scholarship</th>\n",
       "      <th>Hipertension</th>\n",
       "      <th>Diabetes</th>\n",
       "      <th>Alcoholism</th>\n",
       "      <th>Handcap</th>\n",
       "      <th>SMS_received</th>\n",
       "      <th>No-show</th>\n",
       "      <th>AppointmentDayofWeek</th>\n",
       "    </tr>\n",
       "  </thead>\n",
       "  <tbody>\n",
       "    <tr>\n",
       "      <th>0</th>\n",
       "      <td>2.987250e+13</td>\n",
       "      <td>5642903</td>\n",
       "      <td>0</td>\n",
       "      <td>2016-04-29T18:38:08Z</td>\n",
       "      <td>2016-04-29 00:00:00+00:00</td>\n",
       "      <td>62</td>\n",
       "      <td>JARDIM DA PENHA</td>\n",
       "      <td>0</td>\n",
       "      <td>1</td>\n",
       "      <td>0</td>\n",
       "      <td>0</td>\n",
       "      <td>0</td>\n",
       "      <td>0</td>\n",
       "      <td>1</td>\n",
       "      <td>4</td>\n",
       "    </tr>\n",
       "    <tr>\n",
       "      <th>1</th>\n",
       "      <td>5.589980e+14</td>\n",
       "      <td>5642503</td>\n",
       "      <td>1</td>\n",
       "      <td>2016-04-29T16:08:27Z</td>\n",
       "      <td>2016-04-29 00:00:00+00:00</td>\n",
       "      <td>56</td>\n",
       "      <td>JARDIM DA PENHA</td>\n",
       "      <td>0</td>\n",
       "      <td>0</td>\n",
       "      <td>0</td>\n",
       "      <td>0</td>\n",
       "      <td>0</td>\n",
       "      <td>0</td>\n",
       "      <td>1</td>\n",
       "      <td>4</td>\n",
       "    </tr>\n",
       "    <tr>\n",
       "      <th>2</th>\n",
       "      <td>4.262960e+12</td>\n",
       "      <td>5642549</td>\n",
       "      <td>0</td>\n",
       "      <td>2016-04-29T16:19:04Z</td>\n",
       "      <td>2016-04-29 00:00:00+00:00</td>\n",
       "      <td>62</td>\n",
       "      <td>MATA DA PRAIA</td>\n",
       "      <td>0</td>\n",
       "      <td>0</td>\n",
       "      <td>0</td>\n",
       "      <td>0</td>\n",
       "      <td>0</td>\n",
       "      <td>0</td>\n",
       "      <td>1</td>\n",
       "      <td>4</td>\n",
       "    </tr>\n",
       "  </tbody>\n",
       "</table>\n",
       "</div>"
      ],
      "text/plain": [
       "      PatientId  AppointmentID  Gender          ScheduledDay  \\\n",
       "0  2.987250e+13        5642903       0  2016-04-29T18:38:08Z   \n",
       "1  5.589980e+14        5642503       1  2016-04-29T16:08:27Z   \n",
       "2  4.262960e+12        5642549       0  2016-04-29T16:19:04Z   \n",
       "\n",
       "             AppointmentDay  Age    Neighbourhood  Scholarship  Hipertension  \\\n",
       "0 2016-04-29 00:00:00+00:00   62  JARDIM DA PENHA            0             1   \n",
       "1 2016-04-29 00:00:00+00:00   56  JARDIM DA PENHA            0             0   \n",
       "2 2016-04-29 00:00:00+00:00   62    MATA DA PRAIA            0             0   \n",
       "\n",
       "   Diabetes  Alcoholism  Handcap  SMS_received  No-show  AppointmentDayofWeek  \n",
       "0         0           0        0             0        1                     4  \n",
       "1         0           0        0             0        1                     4  \n",
       "2         0           0        0             0        1                     4  "
      ]
     },
     "execution_count": 34,
     "metadata": {},
     "output_type": "execute_result"
    }
   ],
   "source": [
    "#explore data after cleaning\n",
    "original_df.head(3)"
   ]
  },
  {
   "cell_type": "code",
   "execution_count": 35,
   "id": "41810e9a",
   "metadata": {},
   "outputs": [],
   "source": [
    "#create new dataframe\n",
    "df = pd.DataFrame()"
   ]
  },
  {
   "cell_type": "code",
   "execution_count": 36,
   "id": "a53a611d",
   "metadata": {},
   "outputs": [],
   "source": [
    "#edit some misspelling\n",
    "df['No-show'] = original_df['No-show']\n",
    "df['Age'] = original_df['Age']\n",
    "df['Gender'] = original_df['Gender']\n",
    "df['Diabetes'] = original_df['Diabetes']\n",
    "df['Alcoholism'] = original_df['Alcoholism']\n",
    "df['Hypertension'] = original_df['Hipertension']\n",
    "df['Handicap'] = original_df['Handcap']\n",
    "df['Scholarship'] = original_df['Scholarship']\n",
    "df['SMS_received'] = original_df['SMS_received']\n",
    "df['AppointmentDayofWeek'] = original_df['AppointmentDayofWeek']"
   ]
  },
  {
   "cell_type": "code",
   "execution_count": 37,
   "id": "038b626f",
   "metadata": {},
   "outputs": [],
   "source": [
    "# one-hot neighbourhood\n",
    "df['Neighbourhood'] = original_df['Neighbourhood']\n",
    "factorize = pd.factorize(df['Neighbourhood'])\n",
    "df['Neighbourhood'] = factorize[0]"
   ]
  },
  {
   "cell_type": "code",
   "execution_count": 38,
   "id": "552d3484",
   "metadata": {},
   "outputs": [
    {
     "data": {
      "text/plain": [
       "(110526, 11)"
      ]
     },
     "execution_count": 38,
     "metadata": {},
     "output_type": "execute_result"
    }
   ],
   "source": [
    "df.shape"
   ]
  },
  {
   "cell_type": "code",
   "execution_count": 39,
   "id": "98f7c015",
   "metadata": {},
   "outputs": [
    {
     "name": "stdout",
     "output_type": "stream",
     "text": [
      "<class 'pandas.core.frame.DataFrame'>\n",
      "Int64Index: 110526 entries, 0 to 110526\n",
      "Data columns (total 11 columns):\n",
      " #   Column                Non-Null Count   Dtype\n",
      "---  ------                --------------   -----\n",
      " 0   No-show               110526 non-null  int64\n",
      " 1   Age                   110526 non-null  int64\n",
      " 2   Gender                110526 non-null  int64\n",
      " 3   Diabetes              110526 non-null  int64\n",
      " 4   Alcoholism            110526 non-null  int64\n",
      " 5   Hypertension          110526 non-null  int64\n",
      " 6   Handicap              110526 non-null  int64\n",
      " 7   Scholarship           110526 non-null  int64\n",
      " 8   SMS_received          110526 non-null  int64\n",
      " 9   AppointmentDayofWeek  110526 non-null  int64\n",
      " 10  Neighbourhood         110526 non-null  int64\n",
      "dtypes: int64(11)\n",
      "memory usage: 10.1 MB\n"
     ]
    }
   ],
   "source": [
    "df.info()"
   ]
  },
  {
   "cell_type": "markdown",
   "id": "ae97f4d2",
   "metadata": {},
   "source": [
    "### 2.2.1target value"
   ]
  },
  {
   "cell_type": "code",
   "execution_count": 40,
   "id": "8d9da98d",
   "metadata": {},
   "outputs": [
    {
     "name": "stdout",
     "output_type": "stream",
     "text": [
      "1    88207\n",
      "0    22319\n",
      "Name: No-show, dtype: int64\n",
      "Proportion of No-shows: 20.19%\n",
      "Proportion of Shows: 79.81%\n"
     ]
    },
    {
     "data": {
      "image/png": "[encoded data removed]",
      "text/plain": [
       "<Figure size 640x480 with 1 Axes>"
      ]
     },
     "metadata": {},
     "output_type": "display_data"
    }
   ],
   "source": [
    "import matplotlib.pyplot as plt\n",
    "import pandas as pd\n",
    "\n",
    "# Display the value counts of the No-show variable\n",
    "print(df['No-show'].value_counts())\n",
    "\n",
    "# Calculate the proportion of No-shows and Shows\n",
    "no_show_prop = sum(df['No-show'] == 0)/df.shape[0]\n",
    "show_prop = sum(df['No-show'] == 1)/df.shape[0]\n",
    "print(\"Proportion of No-shows: {:.2f}%\".format(no_show_prop*100))\n",
    "print(\"Proportion of Shows: {:.2f}%\".format(show_prop*100))\n",
    "\n",
    "# Create a pie chart to visualize the distribution of No-shows\n",
    "labels = ['No-show', 'Show']\n",
    "sizes = [no_show_prop, show_prop]\n",
    "colors = ['#ff9999', '#66b3ff']\n",
    "\n",
    "fig1, ax1 = plt.subplots()\n",
    "ax1.pie(sizes, colors=colors, labels=labels, autopct='%1.1f%%', startangle=90)\n",
    "ax1.axis('equal')\n",
    "plt.title(\"Pie Chart of No-show\")\n",
    "plt.savefig('No-show_pie.png', dpi=300)\n",
    "plt.show()\n"
   ]
  },
  {
   "cell_type": "markdown",
   "id": "1078a74c",
   "metadata": {},
   "source": [
    "## 2.2.2SMS_received"
   ]
  },
  {
   "cell_type": "code",
   "execution_count": 41,
   "id": "8724bfe5",
   "metadata": {},
   "outputs": [
    {
     "data": {
      "image/png": "[encoded data removed]",
      "text/plain": [
       "<Figure size 640x480 with 1 Axes>"
      ]
     },
     "metadata": {},
     "output_type": "display_data"
    }
   ],
   "source": [
    "import pandas as pd\n",
    "import matplotlib.pyplot as plt\n",
    "\n",
    "\n",
    "# Create a crosstab of No-show and SMS_received variables\n",
    "cross_tab = pd.crosstab(index=df['SMS_received'], columns=df['No-show'])\n",
    "\n",
    "# Normalize the crosstab to get the proportions\n",
    "cross_tab_prop = cross_tab.div(cross_tab.sum(axis=1), axis=0)\n",
    "\n",
    "# Create the stacked bar chart with proportion labels\n",
    "ax = cross_tab_prop.plot(kind='bar', stacked=True)\n",
    "ax.set_xticklabels(['Not received', 'Received'])\n",
    "ax.set_xlabel('SMS_received')\n",
    "ax.set_ylabel('Proportion')\n",
    "ax.set_title('No-show by SMS_received')\n",
    "\n",
    "# Add proportion labels to the chart\n",
    "for i in ax.containers:\n",
    "    ax.bar_label(i, label_type='edge', fontsize=10, padding=5, labels=[f'{x:.2f}' for x in i.datavalues])\n",
    "\n",
    "plt.legend(loc='best', title='No-show')\n",
    "plt.grid(False)\n",
    "plt.show()"
   ]
  },
  {
   "cell_type": "markdown",
   "id": "d85ba413",
   "metadata": {},
   "source": [
    "## 2.2.3Age"
   ]
  },
  {
   "cell_type": "code",
   "execution_count": 42,
   "id": "8784679f",
   "metadata": {},
   "outputs": [
    {
     "name": "stdout",
     "output_type": "stream",
     "text": [
      "No-show Age summary statistics:\n",
      "count    88207.000000\n",
      "mean        37.790504\n",
      "std         23.338645\n",
      "min          0.000000\n",
      "25%         18.000000\n",
      "50%         38.000000\n",
      "75%         56.000000\n",
      "max        115.000000\n",
      "Name: Age, dtype: float64\n",
      "\n",
      "Show Age summary statistics:\n",
      "count    22319.000000\n",
      "mean        34.317667\n",
      "std         21.965941\n",
      "min          0.000000\n",
      "25%         16.000000\n",
      "50%         33.000000\n",
      "75%         51.000000\n",
      "max        115.000000\n",
      "Name: Age, dtype: float64\n"
     ]
    },
    {
     "data": {
      "image/png": "[encoded data removed]",
      "text/plain": [
       "<Figure size 640x480 with 1 Axes>"
      ]
     },
     "metadata": {},
     "output_type": "display_data"
    }
   ],
   "source": [
    "import seaborn as sns\n",
    "import pandas as pd\n",
    "\n",
    "# Create boxplot of Age grouped by No-show\n",
    "ax = sns.boxplot(x='No-show', y='Age', data=df)\n",
    "ax.set_title(\"Boxplot of Age grouped by No-show\")\n",
    "ax.set_ylabel('Age (years old)')\n",
    "ax.set_xlabel('No-show')\n",
    "plt.grid(False)\n",
    "\n",
    "# Display the data\n",
    "no_show_age = df[df['No-show'] == 1]['Age']\n",
    "show_age = df[df['No-show'] == 0]['Age']\n",
    "print(\"No-show Age summary statistics:\")\n",
    "print(no_show_age.describe())\n",
    "print()\n",
    "print(\"Show Age summary statistics:\")\n",
    "print(show_age.describe())\n",
    "\n",
    "plt.show()\n"
   ]
  },
  {
   "cell_type": "markdown",
   "id": "9119cd8d",
   "metadata": {},
   "source": [
    "## 2.2.4AppointmentDayofWeek"
   ]
  },
  {
   "cell_type": "code",
   "execution_count": 43,
   "id": "afe5bdb2",
   "metadata": {},
   "outputs": [
    {
     "name": "stdout",
     "output_type": "stream",
     "text": [
      "no_show_count:\n",
      "AppointmentDayofWeek\n",
      "0    18024\n",
      "1    20488\n",
      "2    20774\n",
      "3    13909\n",
      "4    14982\n",
      "5       30\n",
      "Name: No-show, dtype: int64\n",
      "total_appointments:\n",
      "AppointmentDayofWeek\n",
      "0    22714\n",
      "1    25640\n",
      "2    25867\n",
      "3    17247\n",
      "4    19019\n",
      "5       39\n",
      "Name: No-show, dtype: int64\n",
      "no_show_proportion:\n",
      "AppointmentDayofWeek\n",
      "0    0.793519\n",
      "1    0.799064\n",
      "2    0.803108\n",
      "3    0.806459\n",
      "4    0.787739\n",
      "5    0.769231\n",
      "Name: No-show, dtype: float64\n"
     ]
    },
    {
     "data": {
      "image/png": "[encoded data removed]",
      "text/plain": [
       "<Figure size 640x480 with 1 Axes>"
      ]
     },
     "metadata": {},
     "output_type": "display_data"
    }
   ],
   "source": [
    "# Count the no-show occurrences and the total appointments per day of the week\n",
    "no_show_count = df.groupby(\"AppointmentDayofWeek\")[\"No-show\"].sum()\n",
    "total_appointments = df.groupby(\"AppointmentDayofWeek\")[\"No-show\"].count()\n",
    "print(\"no_show_count:\")\n",
    "print(no_show_count)\n",
    "print(\"total_appointments:\")\n",
    "print(total_appointments)\n",
    "\n",
    "# Calculate the proportion of no-shows\n",
    "no_show_proportion = no_show_count / total_appointments\n",
    "print('no_show_proportion:')\n",
    "print(no_show_proportion)\n",
    "\n",
    "# Create a bar chart\n",
    "fig, ax = plt.subplots()\n",
    "no_show_proportion.plot(kind=\"bar\", ax=ax)\n",
    "\n",
    "# Set labels and title\n",
    "ax.set_xlabel(\"Day of the Week\")\n",
    "ax.set_ylabel(\"No-show Proportion\")\n",
    "ax.set_title(\"No-show Proportion by Day of the Week\")\n",
    "ax.set_xticklabels([\"Monday\", \"Tuesday\", \"Wednesday\", \"Thursday\", \"Friday\", \"Saturday\"], rotation=45)\n",
    "\n",
    "# Show the chart\n",
    "plt.grid(False)\n",
    "plt.show()"
   ]
  },
  {
   "cell_type": "markdown",
   "id": "910f9773",
   "metadata": {},
   "source": [
    "## 2.2.5Gender"
   ]
  },
  {
   "cell_type": "code",
   "execution_count": 47,
   "id": "8e761ac3",
   "metadata": {},
   "outputs": [
    {
     "data": {
      "image/png": "[encoded data removed]",
      "text/plain": [
       "<Figure size 640x480 with 1 Axes>"
      ]
     },
     "metadata": {},
     "output_type": "display_data"
    }
   ],
   "source": [
    "# Calculate the proportion of on-show and no-show per gender\n",
    "gender_proportions = gender_counts.div(gender_counts.sum(axis=1), axis=0) * 100\n",
    "# Create a stacked bar chart\n",
    "fig, ax = plt.subplots() \n",
    "gender_proportions.plot(kind=\"bar\", stacked=True, ax=ax)\n",
    "# Add text labels to each bar\n",
    "for i in ax.containers:\n",
    "    ax.bar_label(i, label_type=\"edge\", labels=[f\"{val:.1f}%\" for val in i.datavalues], padding=5)\n",
    "# Set labels and title\n",
    "ax.set_xlabel(\"Gender\")\n",
    "ax.set_ylabel(\"Percentage\")\n",
    "ax.set_title(\"On-show and No-show Percentage by Gender\") \n",
    "ax.set_xticklabels([\"Male\", \"Female\"], rotation=0)\n",
    "# Add a legend\n",
    "ax.legend([\"No-show\", \"On-show\"], title=\"No-show\")\n",
    "# Show the chart\n",
    "plt.grid(False) \n",
    "plt.show()"
   ]
  },
  {
   "cell_type": "markdown",
   "id": "9f9d3f7f",
   "metadata": {},
   "source": [
    "## 2.2.6correlation"
   ]
  },
  {
   "cell_type": "code",
   "execution_count": 48,
   "id": "0f56087f",
   "metadata": {},
   "outputs": [
    {
     "data": {
      "image/png": "[encoded data removed]",
      "text/plain": [
       "<Figure size 1600x600 with 2 Axes>"
      ]
     },
     "metadata": {},
     "output_type": "display_data"
    }
   ],
   "source": [
    "# Increase the size of the heatmap.\n",
    "plt.figure(figsize=(16, 6))\n",
    "# Store heatmap object in a variable to easily access it when you want to include more features (such as title).\n",
    "# Set the range of values to be displayed on the colormap from -1 to 1, and set the annotation to True to display the correlation values on the heatmap.\n",
    "heatmap = sns.heatmap(df.corr(), vmin=-1, vmax=1, annot=True)\n",
    "# Give a title to the heatmap. Pad defines the distance of the title from the top of the heatmap.\n",
    "heatmap.set_title('Correlation Heatmap', fontdict={'fontsize':12}, pad=12);"
   ]
  },
  {
   "cell_type": "code",
   "execution_count": 49,
   "id": "2267e9d2",
   "metadata": {},
   "outputs": [
    {
     "data": {
      "text/html": [
       "<div>\n",
       "<style scoped>\n",
       "    .dataframe tbody tr th:only-of-type {\n",
       "        vertical-align: middle;\n",
       "    }\n",
       "\n",
       "    .dataframe tbody tr th {\n",
       "        vertical-align: top;\n",
       "    }\n",
       "\n",
       "    .dataframe thead th {\n",
       "        text-align: right;\n",
       "    }\n",
       "</style>\n",
       "<table border=\"1\" class=\"dataframe\">\n",
       "  <thead>\n",
       "    <tr style=\"text-align: right;\">\n",
       "      <th></th>\n",
       "      <th>No-show</th>\n",
       "      <th>Age</th>\n",
       "      <th>Gender</th>\n",
       "      <th>Diabetes</th>\n",
       "      <th>Alcoholism</th>\n",
       "      <th>Hypertension</th>\n",
       "      <th>Handicap</th>\n",
       "      <th>Scholarship</th>\n",
       "      <th>SMS_received</th>\n",
       "      <th>AppointmentDayofWeek</th>\n",
       "      <th>Neighbourhood</th>\n",
       "    </tr>\n",
       "  </thead>\n",
       "  <tbody>\n",
       "    <tr>\n",
       "      <th>No-show</th>\n",
       "      <td>1.000000</td>\n",
       "      <td>0.060327</td>\n",
       "      <td>0.004122</td>\n",
       "      <td>0.015181</td>\n",
       "      <td>0.000197</td>\n",
       "      <td>0.035704</td>\n",
       "      <td>0.006077</td>\n",
       "      <td>-0.029134</td>\n",
       "      <td>-0.126428</td>\n",
       "      <td>-0.001158</td>\n",
       "      <td>-0.019962</td>\n",
       "    </tr>\n",
       "    <tr>\n",
       "      <th>Age</th>\n",
       "      <td>0.060327</td>\n",
       "      <td>1.000000</td>\n",
       "      <td>-0.106452</td>\n",
       "      <td>0.292391</td>\n",
       "      <td>0.095810</td>\n",
       "      <td>0.504586</td>\n",
       "      <td>0.078032</td>\n",
       "      <td>-0.092463</td>\n",
       "      <td>0.012633</td>\n",
       "      <td>0.003068</td>\n",
       "      <td>-0.029368</td>\n",
       "    </tr>\n",
       "    <tr>\n",
       "      <th>Gender</th>\n",
       "      <td>0.004122</td>\n",
       "      <td>-0.106452</td>\n",
       "      <td>1.000000</td>\n",
       "      <td>-0.032556</td>\n",
       "      <td>0.106166</td>\n",
       "      <td>-0.055722</td>\n",
       "      <td>0.022813</td>\n",
       "      <td>-0.114296</td>\n",
       "      <td>-0.046302</td>\n",
       "      <td>0.003907</td>\n",
       "      <td>0.012151</td>\n",
       "    </tr>\n",
       "    <tr>\n",
       "      <th>Diabetes</th>\n",
       "      <td>0.015181</td>\n",
       "      <td>0.292391</td>\n",
       "      <td>-0.032556</td>\n",
       "      <td>1.000000</td>\n",
       "      <td>0.018473</td>\n",
       "      <td>0.433085</td>\n",
       "      <td>0.057530</td>\n",
       "      <td>-0.024894</td>\n",
       "      <td>-0.014552</td>\n",
       "      <td>0.006611</td>\n",
       "      <td>-0.007378</td>\n",
       "    </tr>\n",
       "    <tr>\n",
       "      <th>Alcoholism</th>\n",
       "      <td>0.000197</td>\n",
       "      <td>0.095810</td>\n",
       "      <td>0.106166</td>\n",
       "      <td>0.018473</td>\n",
       "      <td>1.000000</td>\n",
       "      <td>0.087970</td>\n",
       "      <td>0.004647</td>\n",
       "      <td>0.035022</td>\n",
       "      <td>-0.026149</td>\n",
       "      <td>0.002699</td>\n",
       "      <td>0.008988</td>\n",
       "    </tr>\n",
       "    <tr>\n",
       "      <th>Hypertension</th>\n",
       "      <td>0.035704</td>\n",
       "      <td>0.504586</td>\n",
       "      <td>-0.055722</td>\n",
       "      <td>0.433085</td>\n",
       "      <td>0.087970</td>\n",
       "      <td>1.000000</td>\n",
       "      <td>0.080083</td>\n",
       "      <td>-0.019730</td>\n",
       "      <td>-0.006270</td>\n",
       "      <td>0.003449</td>\n",
       "      <td>0.006376</td>\n",
       "    </tr>\n",
       "    <tr>\n",
       "      <th>Handicap</th>\n",
       "      <td>0.006077</td>\n",
       "      <td>0.078032</td>\n",
       "      <td>0.022813</td>\n",
       "      <td>0.057530</td>\n",
       "      <td>0.004647</td>\n",
       "      <td>0.080083</td>\n",
       "      <td>1.000000</td>\n",
       "      <td>-0.008587</td>\n",
       "      <td>-0.024162</td>\n",
       "      <td>0.004350</td>\n",
       "      <td>-0.003759</td>\n",
       "    </tr>\n",
       "    <tr>\n",
       "      <th>Scholarship</th>\n",
       "      <td>-0.029134</td>\n",
       "      <td>-0.092463</td>\n",
       "      <td>-0.114296</td>\n",
       "      <td>-0.024894</td>\n",
       "      <td>0.035022</td>\n",
       "      <td>-0.019730</td>\n",
       "      <td>-0.008587</td>\n",
       "      <td>1.000000</td>\n",
       "      <td>0.001192</td>\n",
       "      <td>-0.000677</td>\n",
       "      <td>0.038913</td>\n",
       "    </tr>\n",
       "    <tr>\n",
       "      <th>SMS_received</th>\n",
       "      <td>-0.126428</td>\n",
       "      <td>0.012633</td>\n",
       "      <td>-0.046302</td>\n",
       "      <td>-0.014552</td>\n",
       "      <td>-0.026149</td>\n",
       "      <td>-0.006270</td>\n",
       "      <td>-0.024162</td>\n",
       "      <td>0.001192</td>\n",
       "      <td>1.000000</td>\n",
       "      <td>-0.089867</td>\n",
       "      <td>0.004143</td>\n",
       "    </tr>\n",
       "    <tr>\n",
       "      <th>AppointmentDayofWeek</th>\n",
       "      <td>-0.001158</td>\n",
       "      <td>0.003068</td>\n",
       "      <td>0.003907</td>\n",
       "      <td>0.006611</td>\n",
       "      <td>0.002699</td>\n",
       "      <td>0.003449</td>\n",
       "      <td>0.004350</td>\n",
       "      <td>-0.000677</td>\n",
       "      <td>-0.089867</td>\n",
       "      <td>1.000000</td>\n",
       "      <td>0.014355</td>\n",
       "    </tr>\n",
       "    <tr>\n",
       "      <th>Neighbourhood</th>\n",
       "      <td>-0.019962</td>\n",
       "      <td>-0.029368</td>\n",
       "      <td>0.012151</td>\n",
       "      <td>-0.007378</td>\n",
       "      <td>0.008988</td>\n",
       "      <td>0.006376</td>\n",
       "      <td>-0.003759</td>\n",
       "      <td>0.038913</td>\n",
       "      <td>0.004143</td>\n",
       "      <td>0.014355</td>\n",
       "      <td>1.000000</td>\n",
       "    </tr>\n",
       "  </tbody>\n",
       "</table>\n",
       "</div>"
      ],
      "text/plain": [
       "                       No-show       Age    Gender  Diabetes  Alcoholism  \\\n",
       "No-show               1.000000  0.060327  0.004122  0.015181    0.000197   \n",
       "Age                   0.060327  1.000000 -0.106452  0.292391    0.095810   \n",
       "Gender                0.004122 -0.106452  1.000000 -0.032556    0.106166   \n",
       "Diabetes              0.015181  0.292391 -0.032556  1.000000    0.018473   \n",
       "Alcoholism            0.000197  0.095810  0.106166  0.018473    1.000000   \n",
       "Hypertension          0.035704  0.504586 -0.055722  0.433085    0.087970   \n",
       "Handicap              0.006077  0.078032  0.022813  0.057530    0.004647   \n",
       "Scholarship          -0.029134 -0.092463 -0.114296 -0.024894    0.035022   \n",
       "SMS_received         -0.126428  0.012633 -0.046302 -0.014552   -0.026149   \n",
       "AppointmentDayofWeek -0.001158  0.003068  0.003907  0.006611    0.002699   \n",
       "Neighbourhood        -0.019962 -0.029368  0.012151 -0.007378    0.008988   \n",
       "\n",
       "                      Hypertension  Handicap  Scholarship  SMS_received  \\\n",
       "No-show                   0.035704  0.006077    -0.029134     -0.126428   \n",
       "Age                       0.504586  0.078032    -0.092463      0.012633   \n",
       "Gender                   -0.055722  0.022813    -0.114296     -0.046302   \n",
       "Diabetes                  0.433085  0.057530    -0.024894     -0.014552   \n",
       "Alcoholism                0.087970  0.004647     0.035022     -0.026149   \n",
       "Hypertension              1.000000  0.080083    -0.019730     -0.006270   \n",
       "Handicap                  0.080083  1.000000    -0.008587     -0.024162   \n",
       "Scholarship              -0.019730 -0.008587     1.000000      0.001192   \n",
       "SMS_received             -0.006270 -0.024162     0.001192      1.000000   \n",
       "AppointmentDayofWeek      0.003449  0.004350    -0.000677     -0.089867   \n",
       "Neighbourhood             0.006376 -0.003759     0.038913      0.004143   \n",
       "\n",
       "                      AppointmentDayofWeek  Neighbourhood  \n",
       "No-show                          -0.001158      -0.019962  \n",
       "Age                               0.003068      -0.029368  \n",
       "Gender                            0.003907       0.012151  \n",
       "Diabetes                          0.006611      -0.007378  \n",
       "Alcoholism                        0.002699       0.008988  \n",
       "Hypertension                      0.003449       0.006376  \n",
       "Handicap                          0.004350      -0.003759  \n",
       "Scholarship                      -0.000677       0.038913  \n",
       "SMS_received                     -0.089867       0.004143  \n",
       "AppointmentDayofWeek              1.000000       0.014355  \n",
       "Neighbourhood                     0.014355       1.000000  "
      ]
     },
     "execution_count": 49,
     "metadata": {},
     "output_type": "execute_result"
    }
   ],
   "source": [
    "df.corr()"
   ]
  },
  {
   "cell_type": "code",
   "execution_count": 617,
   "id": "d804cd98",
   "metadata": {},
   "outputs": [],
   "source": [
    "#Conclusion: From the correlation matrix provided, it seems that the strongest correlation is between 'Age' and 'Hypertension' (0.504586). However, this correlation is not very strong, and it might not be necessary to remove either of the variables from the model. Generally, a correlation coefficient above 0.7 or 0.8 might be considered a strong correlation, warranting the removal of one of the variables to avoid multicollinearity issues."
   ]
  },
  {
   "cell_type": "markdown",
   "id": "86600171",
   "metadata": {},
   "source": [
    "# 3. Data splitting and feature selection"
   ]
  },
  {
   "cell_type": "markdown",
   "id": "6b775cac",
   "metadata": {},
   "source": [
    "## 3.1Data Splitting and Feature Selection"
   ]
  },
  {
   "cell_type": "code",
   "execution_count": 51,
   "id": "7b418e65",
   "metadata": {},
   "outputs": [],
   "source": [
    "# prepare X and Y\n",
    "X = df.drop(['No-show','AppointmentDayofWeek','Gender'], axis=1)\n",
    "y = df['No-show']"
   ]
  },
  {
   "cell_type": "code",
   "execution_count": 52,
   "id": "6a3a8061",
   "metadata": {},
   "outputs": [
    {
     "data": {
      "text/plain": [
       "Index(['Age', 'Diabetes', 'Alcoholism', 'Hypertension', 'Handicap',\n",
       "       'Scholarship', 'SMS_received', 'Neighbourhood'],\n",
       "      dtype='object')"
      ]
     },
     "execution_count": 52,
     "metadata": {},
     "output_type": "execute_result"
    }
   ],
   "source": [
    "X.columns"
   ]
  },
  {
   "cell_type": "code",
   "execution_count": 53,
   "id": "bc51f5bf",
   "metadata": {},
   "outputs": [
    {
     "name": "stdout",
     "output_type": "stream",
     "text": [
      "training set: (66315, 8) (66315,)\n",
      "(44211, 8) (44211,)\n",
      "validation set: (22105, 8) (22105,)\n",
      "test set: (22106, 8) (22106,)\n",
      "       Age  Diabetes  Alcoholism  Hypertension  Handicap  Scholarship  \\\n",
      "40713   39         0           0             0         0            0   \n",
      "39653   29         0           0             0         0            0   \n",
      "4358    50         0           0             0         0            0   \n",
      "8498    38         0           0             0         0            0   \n",
      "95884   13         0           0             0         0            0   \n",
      "\n",
      "       SMS_received  Neighbourhood  \n",
      "40713             0             44  \n",
      "39653             0             26  \n",
      "4358              1             21  \n",
      "8498              0             38  \n",
      "95884             0             62  \n",
      "Selected features:\n",
      "['Age' 'Diabetes' 'Hypertension' 'Handicap' 'Scholarship' 'SMS_received'\n",
      " 'Neighbourhood']\n"
     ]
    }
   ],
   "source": [
    "import pandas as pd\n",
    "import numpy as np\n",
    "from sklearn.model_selection import train_test_split\n",
    "from sklearn.feature_selection import SelectKBest, mutual_info_classif\n",
    "from sklearn.compose import ColumnTransformer\n",
    "from sklearn.preprocessing import OneHotEncoder, OrdinalEncoder, MinMaxScaler\n",
    "\n",
    "# Set the random seed for reproducibility\n",
    "random_state = 123\n",
    "\n",
    "# first split to separate out the training set\n",
    "X_train, X_other, y_train, y_other = train_test_split(X,y,\n",
    "                    train_size = 0.6,random_state = random_state)\n",
    "print('training set:',X_train.shape, y_train.shape) # 60% of points are in train\n",
    "print(X_other.shape, y_other.shape) # 40% of points are in other\n",
    "\n",
    "# second split to separate out the validation and test sets\n",
    "X_val, X_test, y_val, y_test = train_test_split(X_other,y_other,\n",
    "                    train_size = 0.5,random_state = random_state)\n",
    "print('validation set:',X_val.shape, y_val.shape) # 20% of points are in validation\n",
    "print('test set:',X_test.shape, y_test.shape) # 20% of points are in test\n",
    "\n",
    "print(X_train.head())\n",
    "\n",
    "random_state = 123\n",
    "k = 7  # Number of top features to select\n",
    "selector = SelectKBest(mutual_info_classif, k=k)\n",
    "selector.fit(X_train, y_train)\n",
    "\n",
    "# Get the mask of the selected features\n",
    "selected_features = selector.get_support()\n",
    "\n",
    "# Get the feature names\n",
    "feature_names = np.array(X_train.columns)\n",
    "\n",
    "# Print the selected features\n",
    "print(\"Selected features:\")\n",
    "print(feature_names[selected_features])"
   ]
  },
  {
   "cell_type": "code",
   "execution_count": 54,
   "id": "ba2c30e5",
   "metadata": {},
   "outputs": [],
   "source": [
    "#Conclusion: we chose the selected features as following: ['Age' 'Alcoholism' 'Hypertension' 'Handicap' 'Scholarship' 'SMS_received'\n",
    " #'Neighbourhood']"
   ]
  },
  {
   "cell_type": "markdown",
   "id": "b881b4b9",
   "metadata": {},
   "source": [
    "## 3.2Preprocessing the Selected Features"
   ]
  },
  {
   "cell_type": "code",
   "execution_count": 55,
   "id": "f11b3c0a",
   "metadata": {},
   "outputs": [],
   "source": [
    "# Get the selected features\n",
    "selected_features = X.columns.isin(feature_names[selected_features])\n",
    "\n",
    "# Transform the original X_train, X_val, and X_test to have only the selected features\n",
    "X_train_selected = X_train.loc[:, selected_features]\n",
    "X_val_selected = X_val.loc[:, selected_features]\n",
    "X_test_selected = X_test.loc[:, selected_features]"
   ]
  },
  {
   "cell_type": "code",
   "execution_count": 56,
   "id": "a809147e",
   "metadata": {},
   "outputs": [
    {
     "data": {
      "text/plain": [
       "Index(['Age', 'Diabetes', 'Hypertension', 'Handicap', 'Scholarship',\n",
       "       'SMS_received', 'Neighbourhood'],\n",
       "      dtype='object')"
      ]
     },
     "execution_count": 56,
     "metadata": {},
     "output_type": "execute_result"
    }
   ],
   "source": [
    "X_train_selected.columns"
   ]
  },
  {
   "cell_type": "code",
   "execution_count": 57,
   "id": "cb6bb0e7",
   "metadata": {
    "scrolled": true
   },
   "outputs": [
    {
     "name": "stdout",
     "output_type": "stream",
     "text": [
      "(66315, 8)\n",
      "(66315, 82)\n",
      "[[0.         0.         0.         ... 0.         0.         0.33913043]\n",
      " [0.         0.         0.         ... 0.         0.         0.25217391]\n",
      " [0.         0.         0.         ... 0.         0.         0.43478261]\n",
      " ...\n",
      " [0.         0.         0.         ... 0.         0.         0.28695652]\n",
      " [0.         0.         0.         ... 0.         0.         0.23478261]\n",
      " [0.         0.         0.         ... 0.         0.         0.09565217]]\n"
     ]
    }
   ],
   "source": [
    "from sklearn.preprocessing import OneHotEncoder, MinMaxScaler\n",
    "from sklearn.compose import ColumnTransformer\n",
    "from sklearn.pipeline import Pipeline\n",
    "\n",
    "# let's collect all categorical features first\n",
    "onehot_ftrs = ['Neighbourhood']\n",
    "minmax_ftrs = ['Age']\n",
    "# collect all the encoders\n",
    "preprocessor = ColumnTransformer(\n",
    "    transformers=[\n",
    "        ('onehot', OneHotEncoder(sparse=False,handle_unknown='ignore'), onehot_ftrs),\n",
    "        ('minmax', MinMaxScaler(), minmax_ftrs)])\n",
    "prep = Pipeline(steps=[('preprocessor', preprocessor)]) # for now we only preprocess \n",
    "                                                       # later on we will add other steps here\n",
    "\n",
    "X_train_prep = prep.fit_transform(X_train_selected)\n",
    "X_val_prep = prep.transform(X_val_selected)\n",
    "X_test_prep = prep.transform(X_test_selected)\n",
    "\n",
    "print(X_train.shape)\n",
    "print(X_train_prep.shape)\n",
    "print(X_train_prep)"
   ]
  },
  {
   "cell_type": "code",
   "execution_count": 58,
   "id": "db5b62dd",
   "metadata": {},
   "outputs": [
    {
     "data": {
      "text/plain": [
       "array([[0.        , 0.        , 0.        , ..., 0.        , 0.        ,\n",
       "        0.33913043],\n",
       "       [0.        , 0.        , 0.        , ..., 0.        , 0.        ,\n",
       "        0.25217391],\n",
       "       [0.        , 0.        , 0.        , ..., 0.        , 0.        ,\n",
       "        0.43478261],\n",
       "       ...,\n",
       "       [0.        , 0.        , 0.        , ..., 0.        , 0.        ,\n",
       "        0.28695652],\n",
       "       [0.        , 0.        , 0.        , ..., 0.        , 0.        ,\n",
       "        0.23478261],\n",
       "       [0.        , 0.        , 0.        , ..., 0.        , 0.        ,\n",
       "        0.09565217]])"
      ]
     },
     "execution_count": 58,
     "metadata": {},
     "output_type": "execute_result"
    }
   ],
   "source": [
    "X_train_prep"
   ]
  },
  {
   "cell_type": "markdown",
   "id": "a9ac186f",
   "metadata": {},
   "source": [
    "# 4.model"
   ]
  },
  {
   "cell_type": "markdown",
   "id": "153c024a",
   "metadata": {},
   "source": [
    "\n",
    "## 4.1logistic model"
   ]
  },
  {
   "cell_type": "markdown",
   "id": "b5364eea",
   "metadata": {},
   "source": [
    "## 4.2Assumptions of Logistic Regression"
   ]
  },
  {
   "cell_type": "code",
   "execution_count": 59,
   "id": "d98de4ee",
   "metadata": {},
   "outputs": [],
   "source": [
    "#Assumption2: The Observations are Independent"
   ]
  },
  {
   "cell_type": "code",
   "execution_count": 60,
   "id": "07195fe5",
   "metadata": {},
   "outputs": [],
   "source": [
    "#checking duplicates"
   ]
  },
  {
   "cell_type": "code",
   "execution_count": 61,
   "id": "5b08d4b4",
   "metadata": {},
   "outputs": [
    {
     "name": "stdout",
     "output_type": "stream",
     "text": [
      "Empty DataFrame\n",
      "Columns: [PatientId, AppointmentID, Gender, ScheduledDay, AppointmentDay, Age, Neighbourhood, Scholarship, Hipertension, Diabetes, Alcoholism, Handcap, SMS_received, No-show, AppointmentDayofWeek]\n",
      "Index: []\n"
     ]
    }
   ],
   "source": [
    "duplicate_rows = original_df[original_df.duplicated()]\n",
    "print(duplicate_rows)"
   ]
  },
  {
   "cell_type": "code",
   "execution_count": 62,
   "id": "9bd08c21",
   "metadata": {},
   "outputs": [],
   "source": [
    "#Assumption3: There is No Multicollinearity Among Explanatory Variables"
   ]
  },
  {
   "cell_type": "code",
   "execution_count": 63,
   "id": "7d974346",
   "metadata": {
    "scrolled": true
   },
   "outputs": [
    {
     "name": "stdout",
     "output_type": "stream",
     "text": [
      "                feature       VIF\n",
      "0                   Age  3.456473\n",
      "1                Gender  1.449365\n",
      "2              Diabetes  1.339857\n",
      "3            Alcoholism  1.061781\n",
      "4          Hypertension  1.884349\n",
      "5              Handicap  1.029597\n",
      "6           Scholarship  1.106535\n",
      "7          SMS_received  1.389077\n",
      "8  AppointmentDayofWeek  2.294255\n",
      "9         Neighbourhood  2.567986\n"
     ]
    }
   ],
   "source": [
    "from statsmodels.stats.outliers_influence import variance_inflation_factor\n",
    "\n",
    "# create a DataFrame containing only the explanatory variables\n",
    "X = df.drop('No-show', axis=1)\n",
    "\n",
    "# calculate the VIF for each feature\n",
    "vif = pd.DataFrame()\n",
    "vif[\"feature\"] = X.columns\n",
    "vif[\"VIF\"] = [variance_inflation_factor(X.values, i) for i in range(X.shape[1])]\n",
    "\n",
    "# print the results\n",
    "print(vif)"
   ]
  },
  {
   "cell_type": "code",
   "execution_count": 64,
   "id": "22be8d4c",
   "metadata": {},
   "outputs": [],
   "source": [
    "#Conclusion: Based on the VIF values, it seems that there is no significant multicollinearity among the explanatory variables. All the VIF values are below 5, which is a commonly used threshold for identifying multicollinearity. Therefore, you can conclude that the logistic regression assumption of no multicollinearity is met for this dataset."
   ]
  },
  {
   "cell_type": "code",
   "execution_count": 65,
   "id": "bfa4e9f6",
   "metadata": {},
   "outputs": [],
   "source": [
    "#Assumption #5: There is a Linear Relationship Between Explanatory Variables and the Logit of the Response Variable"
   ]
  },
  {
   "cell_type": "code",
   "execution_count": 66,
   "id": "61a809dd",
   "metadata": {},
   "outputs": [
    {
     "data": {
      "text/plain": [
       "LogisticRegression(solver='liblinear')"
      ]
     },
     "execution_count": 66,
     "metadata": {},
     "output_type": "execute_result"
    }
   ],
   "source": [
    "from sklearn.linear_model import LogisticRegression\n",
    "from sklearn.metrics import accuracy_score, precision_score, recall_score, f1_score\n",
    "\n",
    "# Train a logistic regression model using the encoded training set\n",
    "logreg = LogisticRegression(solver='liblinear')\n",
    "logreg.fit(X_train_prep, y_train)"
   ]
  },
  {
   "cell_type": "code",
   "execution_count": 67,
   "id": "9dcc4bff",
   "metadata": {},
   "outputs": [],
   "source": [
    "#since we have one continuous variable--Age,we have to check the statistical significance of the interaction terms (Age: Log_Age ) based on their p-values."
   ]
  },
  {
   "cell_type": "code",
   "execution_count": 68,
   "id": "5e503880",
   "metadata": {},
   "outputs": [
    {
     "data": {
      "text/plain": [
       "LogisticRegression(solver='liblinear')"
      ]
     },
     "execution_count": 68,
     "metadata": {},
     "output_type": "execute_result"
    }
   ],
   "source": [
    "# Create a copy of the dataset\n",
    "X_bt = X_train.copy()\n",
    "\n",
    "# Add a small constant to 'Age' to avoid taking the logarithm of zero\n",
    "X_bt['Age'] += 0.001\n",
    "\n",
    "# Calculate the natural logarithm of 'Age'\n",
    "X_bt['log_Age'] = np.log(X_bt['Age'])\n",
    "\n",
    "# Add the interaction term\n",
    "X_bt['Age_log_Age'] = X_bt['Age'] * X_bt['log_Age']\n",
    "\n",
    "# Fit the logistic regression model with the interaction term\n",
    "log_reg_bt = LogisticRegression(solver='liblinear')\n",
    "log_reg_bt.fit(X_bt, y_train)"
   ]
  },
  {
   "cell_type": "code",
   "execution_count": 69,
   "id": "6352d83d",
   "metadata": {},
   "outputs": [
    {
     "name": "stdout",
     "output_type": "stream",
     "text": [
      "Optimization terminated successfully.\n",
      "         Current function value: 0.489831\n",
      "         Iterations 6\n",
      "                           Logit Regression Results                           \n",
      "==============================================================================\n",
      "Dep. Variable:                No-show   No. Observations:                66315\n",
      "Model:                          Logit   Df Residuals:                    66304\n",
      "Method:                           MLE   Df Model:                           10\n",
      "Date:                Sun, 30 Apr 2023   Pseudo R-squ.:                 0.02264\n",
      "Time:                        13:42:54   Log-Likelihood:                -32483.\n",
      "converged:                       True   LL-Null:                       -33235.\n",
      "Covariance Type:            nonrobust   LLR p-value:                     0.000\n",
      "=================================================================================\n",
      "                    coef    std err          z      P>|z|      [0.025      0.975]\n",
      "---------------------------------------------------------------------------------\n",
      "const             1.6967      0.039     42.980      0.000       1.619       1.774\n",
      "Age              -0.0390      0.007     -5.271      0.000      -0.054      -0.025\n",
      "Diabetes         -0.1255      0.045     -2.815      0.005      -0.213      -0.038\n",
      "Alcoholism       -0.0798      0.058     -1.385      0.166      -0.193       0.033\n",
      "Hypertension      0.0253      0.032      0.780      0.435      -0.038       0.089\n",
      "Handicap         -0.0449      0.063     -0.715      0.474      -0.168       0.078\n",
      "Scholarship      -0.1250      0.032     -3.930      0.000      -0.187      -0.063\n",
      "SMS_received     -0.6512      0.020    -32.498      0.000      -0.691      -0.612\n",
      "Neighbourhood    -0.0018      0.000     -3.668      0.000      -0.003      -0.001\n",
      "log_Age          -0.0192      0.009     -2.080      0.038      -0.037      -0.001\n",
      "Age_log_Age       0.0106      0.002      6.694      0.000       0.008       0.014\n",
      "=================================================================================\n"
     ]
    }
   ],
   "source": [
    "import statsmodels.api as sm\n",
    "\n",
    "# Fit the logistic regression model using the statsmodels library for easier output\n",
    "logit_model_bt = sm.Logit(y_train, sm.add_constant(X_bt))\n",
    "result_bt = logit_model_bt.fit()\n",
    "\n",
    "# Print the summary of the model\n",
    "print(result_bt.summary())"
   ]
  },
  {
   "cell_type": "markdown",
   "id": "064206d2",
   "metadata": {},
   "source": [
    "## 4.2Perform the model"
   ]
  },
  {
   "cell_type": "code",
   "execution_count": 70,
   "id": "234127e9",
   "metadata": {},
   "outputs": [
    {
     "name": "stdout",
     "output_type": "stream",
     "text": [
      "Accuracy: 0.7973\n",
      "Precision: 0.7973\n",
      "F1 score: 0.8872\n"
     ]
    }
   ],
   "source": [
    "logreg = LogisticRegression(solver='liblinear')\n",
    "logreg.fit(X_train_prep, y_train)\n",
    "\n",
    "# Make predictions on the testing set\n",
    "y_pred = logreg.predict(X_test_prep)\n",
    "\n",
    "# Compute evaluation metrics\n",
    "accuracy = accuracy_score(y_test, y_pred)\n",
    "precision = precision_score(y_test, y_pred)\n",
    "recall = recall_score(y_test, y_pred)\n",
    "f1 = f1_score(y_test, y_pred)\n",
    "\n",
    "# Print the evaluation metrics\n",
    "print(f\"Accuracy: {accuracy:.4f}\")\n",
    "print(f\"Precision: {precision:.4f}\")\n",
    "print(f\"F1 score: {f1:.4f}\")\n"
   ]
  },
  {
   "cell_type": "code",
   "execution_count": 71,
   "id": "c8dcebaa",
   "metadata": {
    "scrolled": true
   },
   "outputs": [
    {
     "name": "stdout",
     "output_type": "stream",
     "text": [
      "Accuracy: 0.7947\n",
      "Precision: 0.7947\n",
      "F1 score: 0.8856\n"
     ]
    }
   ],
   "source": [
    "logreg = LogisticRegression(solver='liblinear')\n",
    "logreg.fit(X_train_prep, y_train)\n",
    "\n",
    "# Make predictions on the testing set\n",
    "y_pred = logreg.predict(X_val_prep)\n",
    "\n",
    "# Compute evaluation metrics\n",
    "accuracy = accuracy_score(y_val, y_pred)\n",
    "precision = precision_score(y_val, y_pred)\n",
    "recall = recall_score(y_val, y_pred)\n",
    "f1 = f1_score(y_val, y_pred)\n",
    "\n",
    "# Print the evaluation metrics\n",
    "print(f\"Accuracy: {accuracy:.4f}\")\n",
    "print(f\"Precision: {precision:.4f}\")\n",
    "print(f\"F1 score: {f1:.4f}\")"
   ]
  }
 ],
 "metadata": {
  "kernelspec": {
   "display_name": "Python 3 (ipykernel)",
   "language": "python",
   "name": "python3"
  },
  "language_info": {
   "codemirror_mode": {
    "name": "ipython",
    "version": 3
   },
   "file_extension": ".py",
   "mimetype": "text/x-python",
   "name": "python",
   "nbconvert_exporter": "python",
   "pygments_lexer": "ipython3",
   "version": "3.9.13"
  }
 },
 "nbformat": 4,
 "nbformat_minor": 5
}
